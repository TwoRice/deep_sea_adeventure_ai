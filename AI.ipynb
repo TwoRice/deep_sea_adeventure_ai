{
 "cells": [
  {
   "cell_type": "code",
   "execution_count": 159,
   "id": "b60aec49-edb8-4466-a332-2bb220feb796",
   "metadata": {
    "tags": []
   },
   "outputs": [],
   "source": [
    "import numpy as np\n",
    "import random"
   ]
  },
  {
   "cell_type": "code",
   "execution_count": 151,
   "id": "b4130186-7f99-4b96-9719-9f7e76cec6b3",
   "metadata": {
    "tags": []
   },
   "outputs": [
    {
     "data": {
      "text/plain": [
       "[3, 3, 3, 3, 3, 3, 3, 3, 3, 3]"
      ]
     },
     "execution_count": 151,
     "metadata": {},
     "output_type": "execute_result"
    }
   ],
   "source": [
    "[max(1, min(round(x), 4)) for x in np.random.normal(3, 0.5, size=10)]"
   ]
  },
  {
   "cell_type": "markdown",
   "id": "4e8e2cf2-cef2-4225-85a3-99873741386a",
   "metadata": {},
   "source": [
    "1. Every turn/distance from start increase chances of taking\n",
    "2. every take increase chances of going back\n",
    "3. reset\n",
    "4. every turn/distance to start increase chances of taking again\n",
    "\n",
    "Take 2 then take next\n",
    "\n",
    "Take 2 next totaling 2 (either 2 or 1+1)\n",
    "\n",
    "Add roll mechanic to AI, so don't have to input it\n"
   ]
  },
  {
   "cell_type": "code",
   "execution_count": 177,
   "id": "e96c3cbd-064b-4653-8bff-0af4583f44bf",
   "metadata": {
    "tags": []
   },
   "outputs": [],
   "source": [
    "class AI:\n",
    "    def __init__(self):\n",
    "        self.tokens = []\n",
    "        self.current_tokens = []\n",
    "        self.go_back = False\n",
    "        pass\n",
    "    \n",
    "    def roll():\n",
    "        dice1 = random.choice([1, 2, 3])\n",
    "        dice2 = random.choice([1, 2, 3])\n",
    "        \n",
    "        final = max(0, dice1 + dice2 - len(self.current_tokens))\n",
    "        \n",
    "        return final\n",
    "    \n",
    "    def play(land, oxygen=0):\n",
    "        pass\n",
    "    \n",
    "    def finish(self, safe):\n",
    "        if safe:\n",
    "            self.tokens.extend(self.current_tokens)\n",
    "            \n",
    "        self.current_tokens = []\n",
    "            \n",
    "class randomRuleAI(AI):\n",
    "    \"\"\"\n",
    "    Rule based AI which randomly selects rules to follow.\n",
    "\n",
    "    The AI will either pick up the first 2, 3 or 4 it lands on and always turns back next turn.\n",
    "    If the first piece it took was a 2, it will attempt to pick up more pieces to total 4 i.e. 1 more 2, or 2 more 1s.\n",
    "    If the first piece took was a 3 or 4 there is a 50% chance it will pick up the first 1 it lands on on its way back.\n",
    "    \"\"\"\n",
    "    def __init__(self):\n",
    "        AI.__init__(self)\n",
    "        self.first_take = random.choice([2, 3, 4])\n",
    "        self.take_1 = True\n",
    "        if self.first_take != 2:\n",
    "            self.take_1 = random.choice([True, False])\n",
    "        \n",
    "    def play(self, land):\n",
    "        if self.go_back:\n",
    "            self.go_back = False\n",
    "            print(\"Going back\")\n",
    "            \n",
    "        if land == self.first_take and len(self.current_tokens) == 0:\n",
    "            print(\"Picking up\")\n",
    "            self.current_tokens.append(land)\n",
    "            self.go_back = True \n",
    "        elif len(self.current_tokens) == 1 and self.take_1 and land == 1:\n",
    "            print(\"Picking up\")\n",
    "            self.current_tokens.append(land)\n",
    "        elif sum(self.current_tokens) > 0 and sum(self.current_tokens) < 4 and self.first_take == 2:\n",
    "            print(\"Picking up\")\n",
    "            self.current_tokens.append(land)\n",
    "\n",
    "class randomAI(AI):\n",
    "    def __init__(self):\n",
    "        AI.__init__(self)\n",
    "        self.rand_mean = random.choice([1, 2, 3, 4])\n",
    "        self.rand_std = np.random.uniform(0.1, 2)\n",
    "        self.first_take = max(1, min(round(np.random.normal(self.rand_mean, self.rand_std)), 4))\n",
    "        \n",
    "    def play(self, land, oxygen=0):\n",
    "        if self.go_back:\n",
    "            self.go_back = False\n",
    "            print(\"Going back\")\n",
    "        \n",
    "        if land == self.first_take and len(self.current_tokens) == 0:\n",
    "            print(\"Picking up\")\n",
    "            self.current_tokens.append(land)\n",
    "            self.go_back = True\n",
    "            \n",
    "        if land == 1 and self.current_tokens == [4]:\n",
    "            print(\"Picking up\")\n",
    "            self.current_tokens.append(1)\n",
    "            \n",
    "class smartAI(AI):\n",
    "    pass"
   ]
  },
  {
   "cell_type": "code",
   "execution_count": 174,
   "id": "4ac5172d-1aaa-49f4-a77b-9a2f773f9221",
   "metadata": {
    "tags": []
   },
   "outputs": [
    {
     "data": {
      "text/plain": [
       "3"
      ]
     },
     "execution_count": 174,
     "metadata": {},
     "output_type": "execute_result"
    }
   ],
   "source": [
    "random.choice([1,2,3,4])"
   ]
  },
  {
   "cell_type": "markdown",
   "id": "47303517-d3e6-427a-9928-5f157fc5cc38",
   "metadata": {},
   "source": [
    "### Round 1"
   ]
  },
  {
   "cell_type": "code",
   "execution_count": 208,
   "id": "862feafe-217b-431d-baa9-f48d964b4d10",
   "metadata": {
    "tags": []
   },
   "outputs": [],
   "source": [
    "p1 = randomRuleAI()\n",
    "p2 = randomRuleAI()\n",
    "p3 = randomRuleAI()"
   ]
  },
  {
   "cell_type": "code",
   "execution_count": 212,
   "id": "67d49b94-83cf-4e89-8f02-087786133954",
   "metadata": {
    "tags": []
   },
   "outputs": [],
   "source": [
    "p1.play(2)"
   ]
  },
  {
   "cell_type": "code",
   "execution_count": 215,
   "id": "33ece7a9-09a1-4bf3-9bc9-94e0f6f15f33",
   "metadata": {
    "tags": []
   },
   "outputs": [
    {
     "name": "stdout",
     "output_type": "stream",
     "text": [
      "Going back\n"
     ]
    }
   ],
   "source": [
    "p2.play()"
   ]
  },
  {
   "cell_type": "code",
   "execution_count": 216,
   "id": "600d94d5-5e70-4ae8-8845-21190b193784",
   "metadata": {
    "tags": []
   },
   "outputs": [],
   "source": [
    "p3.play(1)"
   ]
  },
  {
   "cell_type": "markdown",
   "id": "bcbbf6e2-92cf-4484-a2ff-c310e439da65",
   "metadata": {},
   "source": [
    "### Round 2"
   ]
  },
  {
   "cell_type": "code",
   "execution_count": null,
   "id": "4c22928c-a719-49d2-9c87-929326744375",
   "metadata": {},
   "outputs": [],
   "source": [
    "p1"
   ]
  },
  {
   "cell_type": "markdown",
   "id": "d45936b4-7f66-4503-8ee2-2b6bf9049809",
   "metadata": {
    "tags": []
   },
   "source": [
    "### Round 3"
   ]
  },
  {
   "cell_type": "code",
   "execution_count": null,
   "id": "22c6a7da-5c1c-45cf-adcc-03a195ec5ed4",
   "metadata": {},
   "outputs": [],
   "source": []
  }
 ],
 "metadata": {
  "kernelspec": {
   "display_name": "Python 3 (ipykernel)",
   "language": "python",
   "name": "python3"
  },
  "language_info": {
   "codemirror_mode": {
    "name": "ipython",
    "version": 3
   },
   "file_extension": ".py",
   "mimetype": "text/x-python",
   "name": "python",
   "nbconvert_exporter": "python",
   "pygments_lexer": "ipython3",
   "version": "3.10.0"
  }
 },
 "nbformat": 4,
 "nbformat_minor": 5
}
